{
 "cells": [
  {
   "cell_type": "markdown",
   "metadata": {},
   "source": [
    "# 获取access_token"
   ]
  },
  {
   "cell_type": "code",
   "execution_count": 1,
   "metadata": {},
   "outputs": [
    {
     "name": "stdout",
     "output_type": "stream",
     "text": [
      "b'{\"refresh_token\":\"25.4b97344a3753a8a73ad0cbe383385471.315360000.1862637161.282335-15370483\",\"expires_in\":2592000,\"session_key\":\"9mzdDFZGi5KzMYXbJ8fcniJnVtJn9ck2kYnn3l3E1ee71QCH4ncPW4EH8pUOrg2zU8bi0XKDGzBlGde\\\\/0q\\\\/ef9GFsgcKcA==\",\"access_token\":\"24.7cfb4f8066dbd1f015ccf07ae0373089.2592000.1549869161.282335-15370483\",\"scope\":\"public brain_all_scope vis-classify_\\\\u5b9e\\\\u65f6\\\\u68c0\\\\u7d22-\\\\u76f8\\\\u4f3c brain_realtime_same_hq brain_realtime_similar brain_realtime_product wise_adapt lebo_resource_base lightservice_public hetu_basic lightcms_map_poi kaidian_kaidian ApsMisTest_Test\\\\u6743\\\\u9650 vis-classify_flower lpq_\\\\u5f00\\\\u653e cop_helloScope ApsMis_fangdi_permission smartapp_snsapi_base iop_autocar oauth_tp_app smartapp_smart_game_openapi oauth_sessionkey smartapp_swanid_verify smartapp_opensource_openapi\",\"session_secret\":\"5756b3fcad7f37761a40e0bd18982f40\"}\\n'\n"
     ]
    }
   ],
   "source": [
    "import urllib, urllib.request, sys\n",
    "import ssl\n",
    "\n",
    "# client_id 为官网获取的AK， client_secret 为官网获取的SK\n",
    "host = 'https://aip.baidubce.com/oauth/2.0/token?grant_type=client_credentials&client_id=【你的client_id】&client_secret=【你的client_secret】 '\n",
    "request = urllib.request.Request(host)\n",
    "request.add_header('Content-Type', 'application/x-www-form-urlencoded')\n",
    "response = urllib.request.urlopen(request)\n",
    "content = response.read()\n",
    "if (content):\n",
    "    print(content)"
   ]
  },
  {
   "cell_type": "markdown",
   "metadata": {},
   "source": [
    "# 相同图导入"
   ]
  },
  {
   "cell_type": "code",
   "execution_count": 2,
   "metadata": {},
   "outputs": [
    {
     "name": "stdout",
     "output_type": "stream",
     "text": [
      "b'{\"log_id\": 7769112657383402636, \"cont_sign\": \"805662519,28818646\"}'\n"
     ]
    }
   ],
   "source": [
    "# encoding:utf-8\n",
    "import base64\n",
    "import urllib\n",
    "from urllib.request import urlopen\n",
    " \n",
    "request_url = \"https://aip.baidubce.com/rest/2.0/realtime_search/same_hq/add\"\n",
    " \n",
    "# 二进制方式打开图片文件\n",
    "f = open('【图片路径】', 'rb')\n",
    "img = base64.b64encode(f.read())\n",
    " \n",
    "params = {\"image\":img,\"brief\":'【摘要】',\"tags\":'【分类，只能填数字】'}\n",
    "params = urllib.parse.urlencode(params).encode(encoding='UTF8')\n",
    " \n",
    "access_token = '【上一步获得的access_token】'\n",
    "request_url = request_url + \"?access_token=\" + access_token\n",
    "request = urllib.request.Request(url=request_url, data=params)\n",
    "request.add_header('Content-Type', 'application/x-www-form-urlencoded')\n",
    "response = urlopen(request)\n",
    "content = response.read()\n",
    "if content:\n",
    "    print (content)"
   ]
  },
  {
   "cell_type": "markdown",
   "metadata": {},
   "source": [
    "# 相同图检索（图片完全一致才行，故不用相同图检索）"
   ]
  },
  {
   "cell_type": "code",
   "execution_count": 3,
   "metadata": {},
   "outputs": [
    {
     "name": "stdout",
     "output_type": "stream",
     "text": [
      "b'{\"has_more\": false, \"log_id\": 6797351163127429868, \"result_num\": 0, \"result\": []}'\n"
     ]
    }
   ],
   "source": [
    "# encoding:utf-8\n",
    "import base64\n",
    "import urllib\n",
    "from urllib.request import urlopen\n",
    " \n",
    "request_url = \"https://aip.baidubce.com/rest/2.0/realtime_search/same_hq/search\"\n",
    " \n",
    "# 二进制方式打开图片文件\n",
    "f = open('【图片路径】', 'rb')\n",
    "img = base64.b64encode(f.read())\n",
    " \n",
    "params = {\"image\":img,\"brief\":'【摘要】',\"tags\":'【分类，只能填数字】'}\n",
    "params = urllib.parse.urlencode(params).encode(encoding='UTF8')\n",
    " \n",
    "access_token =  '【上一步获得的access_token】'\n",
    "request_url = request_url + \"?access_token=\" + access_token\n",
    "request = urllib.request.Request(url=request_url, data=params)\n",
    "request.add_header('Content-Type', 'application/x-www-form-urlencoded')\n",
    "response = urlopen(request)\n",
    "content = response.read()\n",
    "if content:\n",
    "    print (content)"
   ]
  },
  {
   "cell_type": "markdown",
   "metadata": {},
   "source": [
    "# 获取access_token"
   ]
  },
  {
   "cell_type": "code",
   "execution_count": 4,
   "metadata": {},
   "outputs": [
    {
     "name": "stdout",
     "output_type": "stream",
     "text": [
      "b'{\"refresh_token\":\"25.77f89975a7d6ad2e0a2f3c0ff7765621.315360000.1862637182.282335-15370483\",\"expires_in\":2592000,\"session_key\":\"9mzdWuq9cWQGz2dFPMSXEMagpWqjP9+phGlgRWRqYXovmb3hWlbs7shDIccjwPj7VX30Z1UjrT24AdNvi3+e2l+xcyIJjg==\",\"access_token\":\"24.a60822bd22df84895be6c68bee8cf460.2592000.1549869182.282335-15370483\",\"scope\":\"public brain_all_scope vis-classify_\\\\u5b9e\\\\u65f6\\\\u68c0\\\\u7d22-\\\\u76f8\\\\u4f3c brain_realtime_same_hq brain_realtime_similar brain_realtime_product wise_adapt lebo_resource_base lightservice_public hetu_basic lightcms_map_poi kaidian_kaidian ApsMisTest_Test\\\\u6743\\\\u9650 vis-classify_flower lpq_\\\\u5f00\\\\u653e cop_helloScope ApsMis_fangdi_permission smartapp_snsapi_base iop_autocar oauth_tp_app smartapp_smart_game_openapi oauth_sessionkey smartapp_swanid_verify smartapp_opensource_openapi\",\"session_secret\":\"a6e5a200c97b3aba5b604aa0e10655e5\"}\\n'\n"
     ]
    }
   ],
   "source": [
    "import urllib, urllib.request, sys\n",
    "import ssl\n",
    "\n",
    "# client_id 为官网获取的AK， client_secret 为官网获取的SK\n",
    "host = 'https://aip.baidubce.com/oauth/2.0/token?grant_type=client_credentials&client_id=【你的client_id】&client_secret=【你的client_secret】'\n",
    "request = urllib.request.Request(host)\n",
    "request.add_header('Content-Type', 'application/x-www-form-urlencoded')\n",
    "response = urllib.request.urlopen(request)\n",
    "content = response.read()\n",
    "if (content):\n",
    "    print(content)"
   ]
  },
  {
   "cell_type": "markdown",
   "metadata": {},
   "source": [
    "# 相似图导入"
   ]
  },
  {
   "cell_type": "code",
   "execution_count": 5,
   "metadata": {},
   "outputs": [
    {
     "name": "stdout",
     "output_type": "stream",
     "text": [
      "b'{\"log_id\": 6432298628043014380, \"cont_sign\": \"805662519,28818646\"}'\n"
     ]
    }
   ],
   "source": [
    "# encoding:utf-8\n",
    "import base64\n",
    "import urllib\n",
    "from urllib.request import urlopen\n",
    " \n",
    "request_url = \"https://aip.baidubce.com/rest/2.0/image-classify/v1/realtime_search/similar/add\"\n",
    " \n",
    "# 二进制方式打开图片文件\n",
    "f = open('【图片路径】', 'rb')\n",
    "img = base64.b64encode(f.read())\n",
    " \n",
    "params = {\"image\":img,\"brief\":'【摘要】',\"tags\":'【分类，只能填数字】'}\n",
    "params = urllib.parse.urlencode(params).encode(encoding='UTF8')\n",
    " \n",
    "access_token =  '【上一步获得的access_token】'\n",
    "request_url = request_url + \"?access_token=\" + access_token\n",
    "request = urllib.request.Request(url=request_url, data=params)\n",
    "request.add_header('Content-Type', 'application/x-www-form-urlencoded')\n",
    "response = urlopen(request)\n",
    "content = response.read()\n",
    "if content:\n",
    "    print (content)"
   ]
  },
  {
   "cell_type": "markdown",
   "metadata": {},
   "source": [
    "# 相似图检索（非完全相似图片检测相似度，可根据相似度进行推荐，快速找到失主/丢失物）"
   ]
  },
  {
   "cell_type": "code",
   "execution_count": 6,
   "metadata": {},
   "outputs": [
    {
     "name": "stdout",
     "output_type": "stream",
     "text": [
      "b'{\"has_more\": false, \"log_id\": 5504544970305902572, \"result_num\": 0, \"result\": []}'\n"
     ]
    }
   ],
   "source": [
    "# encoding:utf-8\n",
    "import base64\n",
    "import urllib\n",
    "from urllib.request import urlopen\n",
    " \n",
    "request_url = \"https://aip.baidubce.com/rest/2.0/realtime_search/same_hq/search\"\n",
    " \n",
    "# 二进制方式打开图片文件\n",
    "f = open('【图片路径】', 'rb')\n",
    "img = base64.b64encode(f.read())\n",
    " \n",
    "params = {\"image\":img,\"brief\":'【摘要】',\"tags\":'【分类，只能填数字】'}\n",
    "params = urllib.parse.urlencode(params).encode(encoding='UTF8')\n",
    " \n",
    "access_token =  '【上一步获得的access_token】'\n",
    "request_url = request_url + \"?access_token=\" + access_token\n",
    "request = urllib.request.Request(url=request_url, data=params)\n",
    "request.add_header('Content-Type', 'application/x-www-form-urlencoded')\n",
    "response = urlopen(request)\n",
    "content = response.read()\n",
    "if content:\n",
    "    print (content)"
   ]
  }
 ],
 "metadata": {
  "kernelspec": {
   "display_name": "Python 3",
   "language": "python",
   "name": "python3"
  },
  "language_info": {
   "codemirror_mode": {
    "name": "ipython",
    "version": 3
   },
   "file_extension": ".py",
   "mimetype": "text/x-python",
   "name": "python",
   "nbconvert_exporter": "python",
   "pygments_lexer": "ipython3",
   "version": "3.6.5"
  }
 },
 "nbformat": 4,
 "nbformat_minor": 2
}
