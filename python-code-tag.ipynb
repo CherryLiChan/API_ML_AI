{
 "cells": [
  {
   "cell_type": "markdown",
   "metadata": {},
   "source": [
    "# 新建一个AipImageClassify"
   ]
  },
  {
   "cell_type": "code",
   "execution_count": 1,
   "metadata": {},
   "outputs": [],
   "source": [
    "from aip import AipImageClassify\n",
    "\n",
    "\"\"\" 你的 APPID AK SK \"\"\"\n",
    "APP_ID = '你的 App ID'\n",
    "API_KEY = '你的 Api Key'\n",
    "SECRET_KEY = '你的 Secret Key'\n",
    "\n",
    "client = AipImageClassify(APP_ID, API_KEY, SECRET_KEY)"
   ]
  },
  {
   "cell_type": "markdown",
   "metadata": {},
   "source": [
    "# 物体识别"
   ]
  },
  {
   "cell_type": "code",
   "execution_count": 2,
   "metadata": {
    "scrolled": true
   },
   "outputs": [
    {
     "name": "stdout",
     "output_type": "stream",
     "text": [
      "{'log_id': 5249523693657895212, 'result_num': 5, 'result': [{'score': 0.884797, 'root': '商品-穿戴', 'baike_info': {'baike_url': 'http://baike.baidu.com/item/%E6%89%8B%E8%A1%A8/1207', 'image_url': 'http://imgsrc.baidu.com/baike/pic/item/5d6034a85edf8db13a4eeac30323dd54564e7431.jpg', 'description': '手表，或称为腕表，是指戴在手腕上，用以计时/显示时间的仪器。手表通常是利用皮革、橡胶、尼龙布、不锈钢等材料，制成表带，将显示时间的“表头”束在手腕上。'}, 'keyword': '手表'}, {'score': 0.545346, 'root': '人物-人物特写', 'baike_info': {'baike_url': 'http://baike.baidu.com/item/%E6%89%8B/16136', 'image_url': 'http://imgsrc.baidu.com/baike/pic/item/1f178a82b9014a904a5d359aab773912b31beeb2.jpg', 'description': '继“爱”之后，名制作人李偲菘与金曲奖最佳作词李焯雄再度携手合作，又一首夺冠情歌！'}, 'keyword': '手'}, {'score': 0.362409, 'root': '商品-仪表', 'baike_info': {'baike_url': 'http://baike.baidu.com/item/%E9%92%9F%E8%A1%A8/476727', 'image_url': 'http://imgsrc.baidu.com/baike/pic/item/8c1001e93901213ff54a571550e736d12e2e95f9.jpg', 'description': '钟表是一种计时的装置，也是计量和指示时间的精密仪器。 钟表通常是以内机的大小来区别的。按国际惯例，机心直径超过80毫米、厚度超过30毫米的为钟；直径37～50毫米、厚度4～6毫米者，称为怀表；直径37毫米以下为手表；直径不大于20毫米或机心面积不大于314平方毫米的，称为女表。手表是人类所发明的最小、最坚固、最精密的机械之一。'}, 'keyword': '钟表'}, {'score': 0.180928, 'root': '商品-保健器械', 'baike_info': {'baike_url': 'http://baike.baidu.com/item/%E6%89%8B%E9%93%BE/5827461', 'image_url': 'http://imgsrc.baidu.com/baike/pic/item/c75c10385343fbf224a950c1ba7eca8064388f4f.jpg', 'description': '手链是一种首饰，配戴在手腕部位，多为金银等金属制品，也有矿石、水晶等制的。手链是链状的，以祈求平安，镇定心志和美观为主要用途。'}, 'keyword': '手链'}, {'score': 0.000436, 'root': '商品-货币', 'baike_info': {'baike_url': 'http://baike.baidu.com/item/%E7%A1%AC%E5%B8%81/2613', 'image_url': 'http://imgsrc.baidu.com/baike/pic/item/b3f6cea2741bd5ebcaefd013.jpg', 'description': '硬币(coin;specie;hard currency;hard cash;piece)，即用金属铸造的货币。在我国已有几千年历史，最早的金属铸币是商代的宝德铜贝，距今已3000多年。金属币具有使用方便，耐磨损，流通寿命长等优点。它除了自身所具备的货币职能外，还有很高艺术欣赏和收藏保值功能。'}, 'keyword': '硬币'}]}\n"
     ]
    }
   ],
   "source": [
    "\"\"\" 读取图片 \"\"\"\n",
    "def get_file_content(filePath):\n",
    "    with open(filePath, 'rb') as fp:\n",
    "        return fp.read()\n",
    "\n",
    "image = get_file_content('识别的物体图片')\n",
    "\n",
    "\"\"\" 调用通用物体识别 \"\"\"\n",
    "client.advancedGeneral(image);\n",
    "\n",
    "\"\"\" 如果有可选参数 \"\"\"\n",
    "options = {}\n",
    "options[\"baike_num\"] = 5\n",
    "\n",
    "\"\"\" 带参数调用通用物体识别 \"\"\"\n",
    "content = client.advancedGeneral(image, options)\n",
    "print(content)"
   ]
  },
  {
   "cell_type": "markdown",
   "metadata": {},
   "source": [
    "# 选择可能性最大的第一项并抽取所需信息（物品类别），以便对丢失物归类。"
   ]
  },
  {
   "cell_type": "code",
   "execution_count": 3,
   "metadata": {},
   "outputs": [
    {
     "name": "stdout",
     "output_type": "stream",
     "text": [
      "商品-穿戴:手表\n"
     ]
    }
   ],
   "source": [
    "tag = content['result'][0]['root']+':'+content['result'][0]['keyword']\n",
    "print(tag)"
   ]
  }
 ],
 "metadata": {
  "kernelspec": {
   "display_name": "Python 3",
   "language": "python",
   "name": "python3"
  },
  "language_info": {
   "codemirror_mode": {
    "name": "ipython",
    "version": 3
   },
   "file_extension": ".py",
   "mimetype": "text/x-python",
   "name": "python",
   "nbconvert_exporter": "python",
   "pygments_lexer": "ipython3",
   "version": "3.6.5"
  }
 },
 "nbformat": 4,
 "nbformat_minor": 2
}
