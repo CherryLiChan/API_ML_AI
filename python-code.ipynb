{
 "cells": [
  {
   "cell_type": "markdown",
   "metadata": {},
   "source": [
    "# 获取Access Token"
   ]
  },
  {
   "cell_type": "code",
   "execution_count": 1,
   "metadata": {},
   "outputs": [
    {
     "name": "stdout",
     "output_type": "stream",
     "text": [
      "b'{\"refresh_token\":\"25.8050eb16eddc354528557660ef2572c5.315360000.1859569665.282335-15092544\",\"expires_in\":2592000,\"session_key\":\"9mzdCSeZ9lhdRVJ4eLjWEQnGruYRjFwGH7Lo3qi+dI7cESKRglHgZe7DMmhN9knFChNMfGAfHPJRtIN\\\\/3v42JtBlh0JFQg==\",\"access_token\":\"24.21747bbc89ee0192f0d19da59a755e57.2592000.1546801665.282335-15092544\",\"scope\":\"public vis-ocr_ocr brain_ocr_scope brain_ocr_general brain_ocr_general_basic brain_ocr_general_enhanced vis-ocr_business_license brain_ocr_webimage brain_all_scope brain_ocr_idcard brain_ocr_driving_license brain_ocr_vehicle_license vis-ocr_plate_number brain_solution brain_ocr_plate_number brain_ocr_accurate brain_ocr_accurate_basic brain_ocr_receipt brain_ocr_business_license brain_solution_iocr brain_ocr_handwriting brain_ocr_vat_invoice brain_numbers brain_ocr_train_ticket brain_ocr_taxi_receipt wise_adapt lebo_resource_base lightservice_public hetu_basic lightcms_map_poi kaidian_kaidian ApsMisTest_Test\\\\u6743\\\\u9650 vis-classify_flower lpq_\\\\u5f00\\\\u653e cop_helloScope ApsMis_fangdi_permission smartapp_snsapi_base iop_autocar oauth_tp_app smartapp_smart_game_openapi oauth_sessionkey smartapp_swanid_verify\",\"session_secret\":\"9bd568be712ed3624a4cb7cf8bdd6697\"}\\n'\n"
     ]
    }
   ],
   "source": [
    "import urllib, urllib.request, sys\n",
    "import ssl\n",
    "\n",
    "# client_id 为官网获取的AK， client_secret 为官网获取的SK\n",
    "host = 'https://aip.baidubce.com/oauth/2.0/token?grant_type=client_credentials&client_id=你的id&client_secret=获取的secret密钥'\n",
    "request = urllib.request.Request(host)\n",
    "request.add_header('Content-Type', 'application/json; charset=UTF-8')\n",
    "response = urllib.request.urlopen(request)\n",
    "content = response.read()\n",
    "if (content):\n",
    "    print(content)"
   ]
  },
  {
   "cell_type": "code",
   "execution_count": 2,
   "metadata": {},
   "outputs": [],
   "source": [
    "from aip import AipOcr\n",
    "\n",
    "\"\"\" 你的 APPID AK SK \"\"\"\n",
    "APP_ID = '你的APP_ID'\n",
    "API_KEY = '你的APIkey'\n",
    "SECRET_KEY = '你的SECRET_KEY'\n",
    "\n",
    "client = AipOcr(APP_ID, API_KEY, SECRET_KEY)"
   ]
  },
  {
   "cell_type": "code",
   "execution_count": 3,
   "metadata": {},
   "outputs": [
    {
     "name": "stdout",
     "output_type": "stream",
     "text": [
      "[{'probability': {'average': 0.999281, 'min': 0.997774, 'variance': 0.0}, 'location': {'height': 159, 'left': 779, 'top': 1517, 'width': 373}, 'word_name': '姓名', 'word': '蔡泽纯'}, {'probability': {'average': 0.999185, 'min': 1.298852, 'variance': 0.0}, 'location': {'height': 123, 'left': 742, 'top': 1937, 'width': 618}, 'word_name': '学号', 'word': '161013004'}, {'probability': {'average': 0.99868, 'min': 0.993529, 'variance': 4e-06}, 'location': {'height': 159, 'left': 785, 'top': 2145, 'width': 896}, 'word_name': '院系', 'word': '文学与传媒学院'}, {'probability': {'average': 0.937618, 'min': 0.850037, 'variance': 0.003087}, 'location': {'height': 94, 'left': 752, 'top': 1702, 'width': 573}, 'word_name': 'Name', 'word': 'Zechun cai'}]\n",
      "[{'probability': {'average': 0.992604, 'min': 0.987137, 'variance': 1.7e-05}, 'location': {'height': 76, 'left': 409, 'top': 734, 'width': 102}, 'word_name': '姓名', 'word': '黎婵'}, {'probability': {'average': 0.997543, 'min': 1.286916, 'variance': 1.4e-05}, 'location': {'height': 43, 'left': 410, 'top': 823, 'width': 221}, 'word_name': '学号', 'word': '161013049'}, {'probability': {'average': 0.99575, 'min': 0.977666, 'variance': 4.2e-05}, 'location': {'height': 56, 'left': 1177, 'top': 903, 'width': 214}, 'word_name': '证件类型', 'word': '校园一卡通'}, {'probability': {'average': 0.98396, 'min': 0.885467, 'variance': 0.001227}, 'location': {'height': 75, 'left': 401, 'top': 889, 'width': 296}, 'word_name': '专业', 'word': '网络与新媒体'}, {'probability': {'average': 0.999411, 'min': 0.998957, 'variance': 0.0}, 'location': {'height': 52, 'left': 1126, 'top': 760, 'width': 34}, 'word_name': '性别', 'word': '女'}]\n"
     ]
    }
   ],
   "source": [
    "\"\"\" 读取图片 \"\"\"\n",
    "def get_file_content(filePath):\n",
    "    with open(filePath, 'rb') as fp:\n",
    "        return fp.read()\n",
    "\n",
    "image1 = get_file_content('35.jpg')\n",
    "image2 = get_file_content('34.jpg')\n",
    "templateSign1 = \"903f5e34aa09a136435ab553de24042d\"\n",
    "templateSign2 = \"94376671eb07cfbe14f21c8208790d7c\"\n",
    "\n",
    "\"\"\" 调用自定义模板文字识别 \"\"\"\n",
    "word1 = client.custom(image1, templateSign1)['data']['ret']\n",
    "word2 = client.custom(image2, templateSign2)['data']['ret'];\n",
    "\n",
    "print (word1)\n",
    "print (word2)"
   ]
  },
  {
   "cell_type": "code",
   "execution_count": 4,
   "metadata": {},
   "outputs": [
    {
     "data": {
      "text/html": [
       "<div>\n",
       "<style scoped>\n",
       "    .dataframe tbody tr th:only-of-type {\n",
       "        vertical-align: middle;\n",
       "    }\n",
       "\n",
       "    .dataframe tbody tr th {\n",
       "        vertical-align: top;\n",
       "    }\n",
       "\n",
       "    .dataframe thead th {\n",
       "        text-align: right;\n",
       "    }\n",
       "</style>\n",
       "<table border=\"1\" class=\"dataframe\">\n",
       "  <thead>\n",
       "    <tr style=\"text-align: right;\">\n",
       "      <th></th>\n",
       "      <th>0</th>\n",
       "    </tr>\n",
       "  </thead>\n",
       "  <tbody>\n",
       "    <tr>\n",
       "      <th>姓名</th>\n",
       "      <td>蔡泽纯</td>\n",
       "    </tr>\n",
       "    <tr>\n",
       "      <th>学号</th>\n",
       "      <td>161013004</td>\n",
       "    </tr>\n",
       "    <tr>\n",
       "      <th>院系</th>\n",
       "      <td>文学与传媒学院</td>\n",
       "    </tr>\n",
       "    <tr>\n",
       "      <th>Name</th>\n",
       "      <td>Zechun cai</td>\n",
       "    </tr>\n",
       "  </tbody>\n",
       "</table>\n",
       "</div>"
      ],
      "text/plain": [
       "               0\n",
       "姓名           蔡泽纯\n",
       "学号     161013004\n",
       "院系       文学与传媒学院\n",
       "Name  Zechun cai"
      ]
     },
     "execution_count": 4,
     "metadata": {},
     "output_type": "execute_result"
    }
   ],
   "source": [
    "import pandas as pd\n",
    "df_g1 = pd.DataFrame({ x['word_name']:x['word'] for x in word1 },index=[0]).T\n",
    "df_g1"
   ]
  },
  {
   "cell_type": "code",
   "execution_count": 5,
   "metadata": {},
   "outputs": [
    {
     "data": {
      "text/html": [
       "<div>\n",
       "<style scoped>\n",
       "    .dataframe tbody tr th:only-of-type {\n",
       "        vertical-align: middle;\n",
       "    }\n",
       "\n",
       "    .dataframe tbody tr th {\n",
       "        vertical-align: top;\n",
       "    }\n",
       "\n",
       "    .dataframe thead th {\n",
       "        text-align: right;\n",
       "    }\n",
       "</style>\n",
       "<table border=\"1\" class=\"dataframe\">\n",
       "  <thead>\n",
       "    <tr style=\"text-align: right;\">\n",
       "      <th></th>\n",
       "      <th>0</th>\n",
       "    </tr>\n",
       "  </thead>\n",
       "  <tbody>\n",
       "    <tr>\n",
       "      <th>姓名</th>\n",
       "      <td>黎婵</td>\n",
       "    </tr>\n",
       "    <tr>\n",
       "      <th>学号</th>\n",
       "      <td>161013049</td>\n",
       "    </tr>\n",
       "    <tr>\n",
       "      <th>证件类型</th>\n",
       "      <td>校园一卡通</td>\n",
       "    </tr>\n",
       "    <tr>\n",
       "      <th>专业</th>\n",
       "      <td>网络与新媒体</td>\n",
       "    </tr>\n",
       "    <tr>\n",
       "      <th>性别</th>\n",
       "      <td>女</td>\n",
       "    </tr>\n",
       "  </tbody>\n",
       "</table>\n",
       "</div>"
      ],
      "text/plain": [
       "              0\n",
       "姓名           黎婵\n",
       "学号    161013049\n",
       "证件类型      校园一卡通\n",
       "专业       网络与新媒体\n",
       "性别            女"
      ]
     },
     "execution_count": 5,
     "metadata": {},
     "output_type": "execute_result"
    }
   ],
   "source": [
    "df_g2 = pd.DataFrame({ x['word_name']:x['word'] for x in word2 },index=[0]).T\n",
    "df_g2"
   ]
  },
  {
   "cell_type": "code",
   "execution_count": null,
   "metadata": {},
   "outputs": [],
   "source": []
  }
 ],
 "metadata": {
  "kernelspec": {
   "display_name": "Python 3",
   "language": "python",
   "name": "python3"
  },
  "language_info": {
   "codemirror_mode": {
    "name": "ipython",
    "version": 3
   },
   "file_extension": ".py",
   "mimetype": "text/x-python",
   "name": "python",
   "nbconvert_exporter": "python",
   "pygments_lexer": "ipython3",
   "version": "3.6.5"
  }
 },
 "nbformat": 4,
 "nbformat_minor": 2
}
